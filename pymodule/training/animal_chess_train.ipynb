{
 "cells": [
  {
   "cell_type": "code",
   "execution_count": 1,
   "metadata": {},
   "outputs": [],
   "source": [
    "from animal_chess_pymodule import *\n",
    "from alpha_zero_net import *\n",
    "import numpy as np\n",
    "import torch"
   ]
  },
  {
   "cell_type": "code",
   "execution_count": 2,
   "metadata": {},
   "outputs": [
    {
     "data": {
      "text/plain": [
       "\u001b[37m\u001b[37ml\u001b[0m \u001b[0m\u001b[37m#\u001b[0m\u001b[37m@\u001b[0m\u001b[37m#\u001b[0m \u001b[0m\u001b[37m\u001b[37mt\u001b[0m\n",
       " \u001b[0m\u001b[37m\u001b[37md\u001b[0m \u001b[0m\u001b[37m#\u001b[0m \u001b[0m\u001b[37m\u001b[37mc\u001b[0m \u001b[0m\n",
       "\u001b[37m\u001b[37mr\u001b[0m \u001b[0m\u001b[37m\u001b[37mp\u001b[0m \u001b[0m\u001b[37m\u001b[37mw\u001b[0m \u001b[0m\u001b[37m\u001b[37me\u001b[0m\n",
       " \u001b[0m~\u001b[0m~\u001b[0m \u001b[0m~\u001b[0m~\u001b[0m \u001b[0m\n",
       " \u001b[0m~\u001b[0m~\u001b[0m \u001b[0m~\u001b[0m~\u001b[0m \u001b[0m\n",
       " \u001b[0m~\u001b[0m~\u001b[0m \u001b[0m~\u001b[0m~\u001b[0m \u001b[0m\n",
       "\u001b[31mE\u001b[0m \u001b[0m\u001b[31mW\u001b[0m \u001b[0m\u001b[31mP\u001b[0m \u001b[0m\u001b[31mR\u001b[0m\n",
       " \u001b[0m\u001b[31mC\u001b[0m \u001b[0m\u001b[31m#\u001b[0m \u001b[0m\u001b[31mD\u001b[0m \u001b[0m\n",
       "\u001b[31mT\u001b[0m \u001b[0m\u001b[31m#\u001b[0m\u001b[31m@\u001b[0m\u001b[31m#\u001b[0m \u001b[0m\u001b[31mL\u001b[0m"
      ]
     },
     "execution_count": 2,
     "metadata": {},
     "output_type": "execute_result"
    }
   ],
   "source": [
    "board = Board()\n",
    "board"
   ]
  },
  {
   "cell_type": "code",
   "execution_count": 3,
   "metadata": {
    "scrolled": true
   },
   "outputs": [
    {
     "data": {
      "text/plain": [
       "torch.Size([16, 9, 7])"
      ]
     },
     "execution_count": 3,
     "metadata": {},
     "output_type": "execute_result"
    }
   ],
   "source": [
    "s = np.array(board.encode_board())\n",
    "s = torch.from_numpy(s).float()\n",
    "s.shape"
   ]
  },
  {
   "cell_type": "code",
   "execution_count": 4,
   "metadata": {},
   "outputs": [],
   "source": [
    "conv = ConvBlock()\n",
    "res = ResBlock()"
   ]
  },
  {
   "cell_type": "code",
   "execution_count": 5,
   "metadata": {},
   "outputs": [
    {
     "data": {
      "text/plain": [
       "torch.Size([1, 256, 9, 7])"
      ]
     },
     "execution_count": 5,
     "metadata": {},
     "output_type": "execute_result"
    }
   ],
   "source": [
    "conv(s).shape"
   ]
  },
  {
   "cell_type": "code",
   "execution_count": 6,
   "metadata": {},
   "outputs": [
    {
     "data": {
      "text/plain": [
       "torch.Size([1, 256, 9, 7])"
      ]
     },
     "execution_count": 6,
     "metadata": {},
     "output_type": "execute_result"
    }
   ],
   "source": [
    "res(conv(s)).shape"
   ]
  },
  {
   "cell_type": "code",
   "execution_count": null,
   "metadata": {},
   "outputs": [],
   "source": []
  },
  {
   "cell_type": "code",
   "execution_count": null,
   "metadata": {},
   "outputs": [],
   "source": []
  },
  {
   "cell_type": "code",
   "execution_count": null,
   "metadata": {},
   "outputs": [],
   "source": []
  }
 ],
 "metadata": {
  "kernelspec": {
   "display_name": "Python 3",
   "language": "python",
   "name": "python3"
  },
  "language_info": {
   "codemirror_mode": {
    "name": "ipython",
    "version": 3
   },
   "file_extension": ".py",
   "mimetype": "text/x-python",
   "name": "python",
   "nbconvert_exporter": "python",
   "pygments_lexer": "ipython3",
   "version": "3.7.4"
  }
 },
 "nbformat": 4,
 "nbformat_minor": 4
}
